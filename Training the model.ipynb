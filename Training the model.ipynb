{
 "cells": [
  {
   "cell_type": "markdown",
   "metadata": {},
   "source": [
    "## About\n",
    "\n",
    "https://www.kaggle.com/nakulsingh1289/face-expression-detection-from-scratch\n",
    "\n",
    "The data set consits of 48x48 pixel images of faces. There is a total of seven categories with a categorizing number:\n",
    "\n",
    "Angry (0) Disgust (1) Fear (2) Happy (3) Sad (4) Surprise (5) Neutral (6)"
   ]
  },
  {
   "cell_type": "markdown",
   "metadata": {},
   "source": [
    "### Import packages"
   ]
  },
  {
   "cell_type": "code",
   "execution_count": 1,
   "metadata": {},
   "outputs": [
    {
     "name": "stdout",
     "output_type": "stream",
     "text": [
      "[name: \"/device:CPU:0\"\n",
      "device_type: \"CPU\"\n",
      "memory_limit: 268435456\n",
      "locality {\n",
      "}\n",
      "incarnation: 15676045419548102201\n",
      ", name: \"/device:GPU:0\"\n",
      "device_type: \"GPU\"\n",
      "memory_limit: 6597931449\n",
      "locality {\n",
      "  bus_id: 1\n",
      "  links {\n",
      "  }\n",
      "}\n",
      "incarnation: 17537453450368180919\n",
      "physical_device_desc: \"device: 0, name: GeForce GTX 1070, pci bus id: 0000:01:00.0, compute capability: 6.1\"\n",
      "]\n"
     ]
    }
   ],
   "source": [
    "from tensorflow.python.client import device_lib\n",
    "print(device_lib.list_local_devices())"
   ]
  },
  {
   "cell_type": "code",
   "execution_count": 2,
   "metadata": {},
   "outputs": [],
   "source": [
    "import numpy as np\n",
    "import pandas as pd\n",
    "#import seaborn as sns\n",
    "import matplotlib.pyplot as plt\n",
    "import os\n",
    "from os import path\n",
    "\n",
    "%matplotlib inline\n",
    "\n",
    "from keras.utils import to_categorical\n",
    "from keras.layers import Dense, Input, Dropout, GlobalAveragePooling2D, Flatten, Conv2D, BatchNormalization, Activation, MaxPooling2D\n",
    "from keras.models import Model, Sequential\n",
    "from keras.optimizers import Adam\n",
    "from keras.preprocessing.image import ImageDataGenerator\n",
    "\n",
    "from PIL import Image\n",
    "\n",
    "import json"
   ]
  },
  {
   "cell_type": "code",
   "execution_count": 3,
   "metadata": {},
   "outputs": [],
   "source": [
    "#Figure sizes are 48x48 pixels\n",
    "pic_size = 48"
   ]
  },
  {
   "cell_type": "code",
   "execution_count": 4,
   "metadata": {},
   "outputs": [
    {
     "name": "stdout",
     "output_type": "stream",
     "text": [
      "C:\\Users\\berna\\Documents\\GitHub\\Emotiondetection/data/\n"
     ]
    }
   ],
   "source": [
    "dir_path = os.getcwd() + \"/data/\"\n",
    "print(dir_path)"
   ]
  },
  {
   "cell_type": "code",
   "execution_count": 5,
   "metadata": {},
   "outputs": [],
   "source": [
    "#load df\n",
    "df = pd.read_csv(dir_path + \"icml_face_data.csv\")\n",
    "\n",
    "#create a dict correlating each expression to the right number\n",
    "emotions = {0: 'Angry', 1: 'Disgust', 2: 'Fear', 3: 'Happy', 4: 'Sad', 5: 'Surprise', 6: 'Neutral'}"
   ]
  },
  {
   "cell_type": "code",
   "execution_count": 6,
   "metadata": {},
   "outputs": [
    {
     "data": {
      "text/html": [
       "<div>\n",
       "<style scoped>\n",
       "    .dataframe tbody tr th:only-of-type {\n",
       "        vertical-align: middle;\n",
       "    }\n",
       "\n",
       "    .dataframe tbody tr th {\n",
       "        vertical-align: top;\n",
       "    }\n",
       "\n",
       "    .dataframe thead th {\n",
       "        text-align: right;\n",
       "    }\n",
       "</style>\n",
       "<table border=\"1\" class=\"dataframe\">\n",
       "  <thead>\n",
       "    <tr style=\"text-align: right;\">\n",
       "      <th></th>\n",
       "      <th>emotion</th>\n",
       "      <th>Usage</th>\n",
       "      <th>pixels</th>\n",
       "    </tr>\n",
       "  </thead>\n",
       "  <tbody>\n",
       "    <tr>\n",
       "      <th>0</th>\n",
       "      <td>0</td>\n",
       "      <td>Training</td>\n",
       "      <td>70 80 82 72 58 58 60 63 54 58 60 48 89 115 121...</td>\n",
       "    </tr>\n",
       "    <tr>\n",
       "      <th>1</th>\n",
       "      <td>0</td>\n",
       "      <td>Training</td>\n",
       "      <td>151 150 147 155 148 133 111 140 170 174 182 15...</td>\n",
       "    </tr>\n",
       "    <tr>\n",
       "      <th>2</th>\n",
       "      <td>2</td>\n",
       "      <td>Training</td>\n",
       "      <td>231 212 156 164 174 138 161 173 182 200 106 38...</td>\n",
       "    </tr>\n",
       "    <tr>\n",
       "      <th>3</th>\n",
       "      <td>4</td>\n",
       "      <td>Training</td>\n",
       "      <td>24 32 36 30 32 23 19 20 30 41 21 22 32 34 21 1...</td>\n",
       "    </tr>\n",
       "    <tr>\n",
       "      <th>4</th>\n",
       "      <td>6</td>\n",
       "      <td>Training</td>\n",
       "      <td>4 0 0 0 0 0 0 0 0 0 0 0 3 15 23 28 48 50 58 84...</td>\n",
       "    </tr>\n",
       "  </tbody>\n",
       "</table>\n",
       "</div>"
      ],
      "text/plain": [
       "   emotion     Usage                                             pixels\n",
       "0        0  Training  70 80 82 72 58 58 60 63 54 58 60 48 89 115 121...\n",
       "1        0  Training  151 150 147 155 148 133 111 140 170 174 182 15...\n",
       "2        2  Training  231 212 156 164 174 138 161 173 182 200 106 38...\n",
       "3        4  Training  24 32 36 30 32 23 19 20 30 41 21 22 32 34 21 1...\n",
       "4        6  Training  4 0 0 0 0 0 0 0 0 0 0 0 3 15 23 28 48 50 58 84..."
      ]
     },
     "execution_count": 6,
     "metadata": {},
     "output_type": "execute_result"
    }
   ],
   "source": [
    "df.head()"
   ]
  },
  {
   "cell_type": "code",
   "execution_count": 7,
   "metadata": {},
   "outputs": [
    {
     "data": {
      "text/html": [
       "<style  type=\"text/css\" >\n",
       "#T_5c734c34_7ac5_11eb_9d22_04922608e02brow0_col0{\n",
       "            width:  10em;\n",
       "             height:  80%;\n",
       "            background:  linear-gradient(90deg,#d65f5f 100.0%, transparent 100.0%);\n",
       "        }#T_5c734c34_7ac5_11eb_9d22_04922608e02brow1_col0{\n",
       "            width:  10em;\n",
       "             height:  80%;\n",
       "            background:  linear-gradient(90deg,#d65f5f 66.9%, transparent 66.9%);\n",
       "        }#T_5c734c34_7ac5_11eb_9d22_04922608e02brow2_col0{\n",
       "            width:  10em;\n",
       "             height:  80%;\n",
       "            background:  linear-gradient(90deg,#d65f5f 65.5%, transparent 65.5%);\n",
       "        }#T_5c734c34_7ac5_11eb_9d22_04922608e02brow3_col0{\n",
       "            width:  10em;\n",
       "             height:  80%;\n",
       "            background:  linear-gradient(90deg,#d65f5f 54.2%, transparent 54.2%);\n",
       "        }#T_5c734c34_7ac5_11eb_9d22_04922608e02brow4_col0{\n",
       "            width:  10em;\n",
       "             height:  80%;\n",
       "            background:  linear-gradient(90deg,#d65f5f 52.2%, transparent 52.2%);\n",
       "        }#T_5c734c34_7ac5_11eb_9d22_04922608e02brow5_col0{\n",
       "            width:  10em;\n",
       "             height:  80%;\n",
       "            background:  linear-gradient(90deg,#d65f5f 40.9%, transparent 40.9%);\n",
       "        }#T_5c734c34_7ac5_11eb_9d22_04922608e02brow6_col0{\n",
       "            width:  10em;\n",
       "             height:  80%;\n",
       "        }</style><table id=\"T_5c734c34_7ac5_11eb_9d22_04922608e02b\" ><thead>    <tr>        <th class=\"blank level0\" ></th>        <th class=\"col_heading level0 col0\" >emotion</th>    </tr></thead><tbody>\n",
       "                <tr>\n",
       "                        <th id=\"T_5c734c34_7ac5_11eb_9d22_04922608e02blevel0_row0\" class=\"row_heading level0 row0\" >Happy</th>\n",
       "                        <td id=\"T_5c734c34_7ac5_11eb_9d22_04922608e02brow0_col0\" class=\"data row0 col0\" >8989</td>\n",
       "            </tr>\n",
       "            <tr>\n",
       "                        <th id=\"T_5c734c34_7ac5_11eb_9d22_04922608e02blevel0_row1\" class=\"row_heading level0 row1\" >Neutral</th>\n",
       "                        <td id=\"T_5c734c34_7ac5_11eb_9d22_04922608e02brow1_col0\" class=\"data row1 col0\" >6198</td>\n",
       "            </tr>\n",
       "            <tr>\n",
       "                        <th id=\"T_5c734c34_7ac5_11eb_9d22_04922608e02blevel0_row2\" class=\"row_heading level0 row2\" >Sad</th>\n",
       "                        <td id=\"T_5c734c34_7ac5_11eb_9d22_04922608e02brow2_col0\" class=\"data row2 col0\" >6077</td>\n",
       "            </tr>\n",
       "            <tr>\n",
       "                        <th id=\"T_5c734c34_7ac5_11eb_9d22_04922608e02blevel0_row3\" class=\"row_heading level0 row3\" >Fear</th>\n",
       "                        <td id=\"T_5c734c34_7ac5_11eb_9d22_04922608e02brow3_col0\" class=\"data row3 col0\" >5121</td>\n",
       "            </tr>\n",
       "            <tr>\n",
       "                        <th id=\"T_5c734c34_7ac5_11eb_9d22_04922608e02blevel0_row4\" class=\"row_heading level0 row4\" >Angry</th>\n",
       "                        <td id=\"T_5c734c34_7ac5_11eb_9d22_04922608e02brow4_col0\" class=\"data row4 col0\" >4953</td>\n",
       "            </tr>\n",
       "            <tr>\n",
       "                        <th id=\"T_5c734c34_7ac5_11eb_9d22_04922608e02blevel0_row5\" class=\"row_heading level0 row5\" >Surprise</th>\n",
       "                        <td id=\"T_5c734c34_7ac5_11eb_9d22_04922608e02brow5_col0\" class=\"data row5 col0\" >4002</td>\n",
       "            </tr>\n",
       "            <tr>\n",
       "                        <th id=\"T_5c734c34_7ac5_11eb_9d22_04922608e02blevel0_row6\" class=\"row_heading level0 row6\" >Disgust</th>\n",
       "                        <td id=\"T_5c734c34_7ac5_11eb_9d22_04922608e02brow6_col0\" class=\"data row6 col0\" >547</td>\n",
       "            </tr>\n",
       "    </tbody></table>"
      ],
      "text/plain": [
       "<pandas.io.formats.style.Styler at 0x19629574888>"
      ]
     },
     "execution_count": 7,
     "metadata": {},
     "output_type": "execute_result"
    }
   ],
   "source": [
    "val_count = df.emotion.value_counts()\n",
    "val_count = val_count.rename(index=emotions)\n",
    "val_count.to_frame().style.bar()"
   ]
  },
  {
   "cell_type": "markdown",
   "metadata": {},
   "source": [
    "### Some helper functions to plot and prepare data"
   ]
  },
  {
   "cell_type": "code",
   "execution_count": 8,
   "metadata": {},
   "outputs": [],
   "source": [
    "# This function will help me plot an example image of each emotion\n",
    "def plot_all_emotions():\n",
    "    fig, axs = plt.subplots(1, 7, figsize=(30, 12))\n",
    "    fig.subplots_adjust(hspace = .2, wspace=.2)\n",
    "    axs = axs.ravel()\n",
    "    for i in range(7):\n",
    "        idx = df[df['emotion']==i].index[i]\n",
    "        axs[i].imshow(train_images[idx][:,:,0], cmap='gray')\n",
    "        axs[i].set_title(emotions[train_labels[idx].argmax()])\n",
    "        axs[i].set_xticklabels([])\n",
    "        axs[i].set_yticklabels([])"
   ]
  },
  {
   "cell_type": "code",
   "execution_count": 9,
   "metadata": {},
   "outputs": [],
   "source": [
    "def prepare_data(data):\n",
    "    \"\"\" Prepare data for modeling \n",
    "        input: data frame with labels and pixel data\n",
    "        output: image and label array \"\"\"\n",
    "    \n",
    "    # Creates two np arrays.\n",
    "    # 1st is an array with the length of the dataframe, and each element in the array is a 48x48 array\n",
    "    image_array = np.zeros(shape=(len(data), 48, 48))\n",
    "    # 2nd is an array that creates an array where each element is a number representing the emotion from the dataframe\n",
    "    image_label = np.array(list(map(int, data['emotion'])))\n",
    "    \n",
    "    # We iterate through the dataframe row by row, inserting each row as element in the array and separating\n",
    "    # each value separated with a space and adding it as an element.\n",
    "    for i, row in enumerate(data.index):\n",
    "        image = np.fromstring(data.loc[row, ' pixels'], dtype=int, sep=' ')\n",
    "        image = np.reshape(image, (48, 48))\n",
    "        image_array[i] = image\n",
    "        \n",
    "    return image_array, image_label"
   ]
  },
  {
   "cell_type": "code",
   "execution_count": 10,
   "metadata": {},
   "outputs": [],
   "source": [
    "train_image_array, train_image_label = prepare_data(df[df[' Usage']=='Training'])\n",
    "val_image_array, val_image_label = prepare_data(df[df[' Usage']=='PrivateTest'])\n",
    "test_image_array, test_image_label = prepare_data(df[df[' Usage']=='PublicTest'])"
   ]
  },
  {
   "cell_type": "code",
   "execution_count": 11,
   "metadata": {},
   "outputs": [],
   "source": [
    "train_images = train_image_array.reshape((train_image_array.shape[0], 48, 48, 1))\n",
    "train_images = train_images.astype('float32')/255\n",
    "val_images = val_image_array.reshape((val_image_array.shape[0], 48, 48, 1))\n",
    "val_images = val_images.astype('float32')/255\n",
    "test_images = test_image_array.reshape((test_image_array.shape[0], 48, 48, 1))\n",
    "test_images = test_images.astype('float32')/255"
   ]
  },
  {
   "cell_type": "code",
   "execution_count": 12,
   "metadata": {},
   "outputs": [],
   "source": [
    "# We transform the the labels to proper vectors to make it usable for the model to use\n",
    "train_labels = to_categorical(train_image_label)\n",
    "val_labels = to_categorical(val_image_label)\n",
    "test_labels = to_categorical(test_image_label)"
   ]
  },
  {
   "cell_type": "markdown",
   "metadata": {},
   "source": [
    "### Plot examples images of all emotions from the training data"
   ]
  },
  {
   "cell_type": "code",
   "execution_count": 13,
   "metadata": {},
   "outputs": [
    {
     "data": {
      "image/png": "[encoded data removed]",
      "text/plain": [
       "<Figure size 2160x864 with 7 Axes>"
      ]
     },
     "metadata": {
      "needs_background": "light"
     },
     "output_type": "display_data"
    }
   ],
   "source": [
    "plot_all_emotions()"
   ]
  },
  {
   "cell_type": "markdown",
   "metadata": {},
   "source": [
    "### Image augmentation using keras ImageDataGenerator"
   ]
  },
  {
   "cell_type": "code",
   "execution_count": 14,
   "metadata": {},
   "outputs": [],
   "source": [
    "# First I save every image in a folder because this is what ImageDatagenerator requires to augment\n",
    "# I use a package that easily saves image arrays to png called Pillow (PIL)\n",
    "\n",
    "for num, images in enumerate(train_image_array):\n",
    "    class_folder = emotions[int(train_image_label[num])]\n",
    "    im = Image.fromarray(images.astype(np.uint8))\n",
    "    #save them each image in right folder correlating to each class\n",
    "    if path.exists(\"images/train/\" + class_folder):\n",
    "        im.save('images/train/'+ class_folder + f'/{num}.png')  \n",
    "    else:\n",
    "        os.mkdir('images/train/' + class_folder)\n",
    "        im.save('images/train/'+ class_folder + f'/{num}.png')  \n",
    "    \n",
    "for num, images in enumerate(val_image_array):\n",
    "    class_folder = emotions[int(val_image_label[num])]\n",
    "    im = Image.fromarray(images.astype(np.uint8))\n",
    "    #save them each image in right folder correlating to each class\n",
    "    if path.exists(\"images/validation/\" + class_folder):\n",
    "        im.save('images/validation/'+ class_folder + f'/{num}.png')  \n",
    "    else:\n",
    "        os.mkdir('images/validation/' + class_folder)\n",
    "        im.save('images/validation/'+ class_folder + f'/{num}.png') "
   ]
  },
  {
   "cell_type": "code",
   "execution_count": 15,
   "metadata": {},
   "outputs": [
    {
     "name": "stdout",
     "output_type": "stream",
     "text": [
      "Found 28709 images belonging to 7 classes.\n",
      "Found 3589 images belonging to 7 classes.\n"
     ]
    }
   ],
   "source": [
    "# augmentation\n",
    "\n",
    "batch_size = 128\n",
    "base_path = \"images/\"\n",
    "\n",
    "train_datagen = ImageDataGenerator(rescale = 1.0/255.0,\n",
    "                                  width_shift_range = 0.1,\n",
    "                                   height_shift_range = 0.1,\n",
    "                                   rotation_range = 20,\n",
    "                                   horizontal_flip = True)\n",
    "\n",
    "validation_datagen = ImageDataGenerator(rescale= 1.0/255)\n",
    "\n",
    "train_generator = train_datagen.flow_from_directory(base_path + \"train/\",\n",
    "                                                    target_size=(56,56),\n",
    "                                                    color_mode=\"grayscale\",\n",
    "                                                    batch_size=batch_size,\n",
    "                                                    class_mode='categorical',\n",
    "                                                    shuffle=True)\n",
    "\n",
    "validation_generator = validation_datagen.flow_from_directory(base_path + \"validation/\",\n",
    "                                                    target_size=(56,56),\n",
    "                                                    color_mode=\"grayscale\",\n",
    "                                                    batch_size=batch_size,\n",
    "                                                    class_mode='categorical',\n",
    "                                                    shuffle=False)"
   ]
  },
  {
   "cell_type": "markdown",
   "metadata": {},
   "source": [
    "### Training the model"
   ]
  },
  {
   "cell_type": "code",
   "execution_count": 24,
   "metadata": {},
   "outputs": [
    {
     "name": "stdout",
     "output_type": "stream",
     "text": [
      "Model: \"sequential_2\"\n",
      "_________________________________________________________________\n",
      "Layer (type)                 Output Shape              Param #   \n",
      "=================================================================\n",
      "conv2d_8 (Conv2D)            (None, 56, 56, 64)        640       \n",
      "_________________________________________________________________\n",
      "batch_normalization_12 (Batc (None, 56, 56, 64)        256       \n",
      "_________________________________________________________________\n",
      "activation_12 (Activation)   (None, 56, 56, 64)        0         \n",
      "_________________________________________________________________\n",
      "max_pooling2d_8 (MaxPooling2 (None, 28, 28, 64)        0         \n",
      "_________________________________________________________________\n",
      "dropout_12 (Dropout)         (None, 28, 28, 64)        0         \n",
      "_________________________________________________________________\n",
      "conv2d_9 (Conv2D)            (None, 28, 28, 128)       204928    \n",
      "_________________________________________________________________\n",
      "batch_normalization_13 (Batc (None, 28, 28, 128)       512       \n",
      "_________________________________________________________________\n",
      "activation_13 (Activation)   (None, 28, 28, 128)       0         \n",
      "_________________________________________________________________\n",
      "max_pooling2d_9 (MaxPooling2 (None, 14, 14, 128)       0         \n",
      "_________________________________________________________________\n",
      "dropout_13 (Dropout)         (None, 14, 14, 128)       0         \n",
      "_________________________________________________________________\n",
      "conv2d_10 (Conv2D)           (None, 14, 14, 512)       590336    \n",
      "_________________________________________________________________\n",
      "batch_normalization_14 (Batc (None, 14, 14, 512)       2048      \n",
      "_________________________________________________________________\n",
      "activation_14 (Activation)   (None, 14, 14, 512)       0         \n",
      "_________________________________________________________________\n",
      "max_pooling2d_10 (MaxPooling (None, 7, 7, 512)         0         \n",
      "_________________________________________________________________\n",
      "dropout_14 (Dropout)         (None, 7, 7, 512)         0         \n",
      "_________________________________________________________________\n",
      "conv2d_11 (Conv2D)           (None, 7, 7, 512)         2359808   \n",
      "_________________________________________________________________\n",
      "batch_normalization_15 (Batc (None, 7, 7, 512)         2048      \n",
      "_________________________________________________________________\n",
      "activation_15 (Activation)   (None, 7, 7, 512)         0         \n",
      "_________________________________________________________________\n",
      "max_pooling2d_11 (MaxPooling (None, 3, 3, 512)         0         \n",
      "_________________________________________________________________\n",
      "dropout_15 (Dropout)         (None, 3, 3, 512)         0         \n",
      "_________________________________________________________________\n",
      "flatten_2 (Flatten)          (None, 4608)              0         \n",
      "_________________________________________________________________\n",
      "dense_6 (Dense)              (None, 256)               1179904   \n",
      "_________________________________________________________________\n",
      "batch_normalization_16 (Batc (None, 256)               1024      \n",
      "_________________________________________________________________\n",
      "activation_16 (Activation)   (None, 256)               0         \n",
      "_________________________________________________________________\n",
      "dropout_16 (Dropout)         (None, 256)               0         \n",
      "_________________________________________________________________\n",
      "dense_7 (Dense)              (None, 512)               131584    \n",
      "_________________________________________________________________\n",
      "batch_normalization_17 (Batc (None, 512)               2048      \n",
      "_________________________________________________________________\n",
      "activation_17 (Activation)   (None, 512)               0         \n",
      "_________________________________________________________________\n",
      "dropout_17 (Dropout)         (None, 512)               0         \n",
      "_________________________________________________________________\n",
      "dense_8 (Dense)              (None, 7)                 3591      \n",
      "=================================================================\n",
      "Total params: 4,478,727\n",
      "Trainable params: 4,474,759\n",
      "Non-trainable params: 3,968\n",
      "_________________________________________________________________\n",
      "None\n"
     ]
    }
   ],
   "source": [
    "# number of possible label values\n",
    "nb_classes = 7\n",
    "\n",
    "# Initialising the CNN\n",
    "model = Sequential()\n",
    "\n",
    "# 1 - Convolution\n",
    "model.add(Conv2D(64,(3,3), padding='same', input_shape=(56, 56,1)))\n",
    "model.add(BatchNormalization())\n",
    "model.add(Activation('relu'))\n",
    "model.add(MaxPooling2D(pool_size=(2, 2)))\n",
    "model.add(Dropout(0.25))\n",
    "\n",
    "# 2nd Convolution layer\n",
    "model.add(Conv2D(128,(5,5), padding='same'))\n",
    "model.add(BatchNormalization())\n",
    "model.add(Activation('relu'))\n",
    "model.add(MaxPooling2D(pool_size=(2, 2)))\n",
    "model.add(Dropout(0.25))\n",
    "\n",
    "# 3rd Convolution layer\n",
    "model.add(Conv2D(512,(3,3), padding='same'))\n",
    "model.add(BatchNormalization())\n",
    "model.add(Activation('relu'))\n",
    "model.add(MaxPooling2D(pool_size=(2, 2)))\n",
    "model.add(Dropout(0.25))\n",
    "\n",
    "# 4th Convolution layer\n",
    "model.add(Conv2D(512,(3,3), padding='same'))\n",
    "model.add(BatchNormalization())\n",
    "model.add(Activation('relu'))\n",
    "model.add(MaxPooling2D(pool_size=(2, 2)))\n",
    "model.add(Dropout(0.25))\n",
    "\n",
    "# Flattening\n",
    "model.add(Flatten())\n",
    "\n",
    "# Fully connected layer 1st layer\n",
    "model.add(Dense(256))\n",
    "model.add(BatchNormalization())\n",
    "model.add(Activation('relu'))\n",
    "model.add(Dropout(0.25))\n",
    "\n",
    "# Fully connected layer 2nd layer\n",
    "model.add(Dense(512))\n",
    "model.add(BatchNormalization())\n",
    "model.add(Activation('relu'))\n",
    "model.add(Dropout(0.25))\n",
    "\n",
    "model.add(Dense(nb_classes, activation='softmax'))\n",
    "\n",
    "print(model.summary())\n",
    "\n",
    "opt = Adam(lr=0.001)\n",
    "model.compile(optimizer=opt, loss='categorical_crossentropy', metrics=['accuracy'])"
   ]
  },
  {
   "cell_type": "code",
   "execution_count": 25,
   "metadata": {},
   "outputs": [
    {
     "name": "stdout",
     "output_type": "stream",
     "text": [
      "Epoch 1/50\n",
      "224/224 [==============================] - 18s 77ms/step - loss: 2.0058 - accuracy: 0.2178 - val_loss: 1.9925 - val_accuracy: 0.2031\n",
      "\n",
      "Epoch 00001: val_accuracy improved from -inf to 0.20312, saving model to model_weights.h5\n",
      "Epoch 2/50\n",
      "224/224 [==============================] - 18s 80ms/step - loss: 1.7360 - accuracy: 0.3088 - val_loss: 1.8448 - val_accuracy: 0.3192\n",
      "\n",
      "Epoch 00002: val_accuracy improved from 0.20312 to 0.31920, saving model to model_weights.h5\n",
      "Epoch 3/50\n",
      "224/224 [==============================] - 18s 79ms/step - loss: 1.5160 - accuracy: 0.4169 - val_loss: 1.4252 - val_accuracy: 0.4439\n",
      "\n",
      "Epoch 00003: val_accuracy improved from 0.31920 to 0.44392, saving model to model_weights.h5\n",
      "Epoch 4/50\n",
      "224/224 [==============================] - 18s 81ms/step - loss: 1.3854 - accuracy: 0.4667 - val_loss: 1.4136 - val_accuracy: 0.4715\n",
      "\n",
      "Epoch 00004: val_accuracy improved from 0.44392 to 0.47154, saving model to model_weights.h5\n",
      "Epoch 5/50\n",
      "224/224 [==============================] - 18s 78ms/step - loss: 1.3221 - accuracy: 0.4891 - val_loss: 1.2680 - val_accuracy: 0.5064\n",
      "\n",
      "Epoch 00005: val_accuracy improved from 0.47154 to 0.50642, saving model to model_weights.h5\n",
      "Epoch 6/50\n",
      "224/224 [==============================] - 17s 76ms/step - loss: 1.2668 - accuracy: 0.5151 - val_loss: 1.2969 - val_accuracy: 0.5036\n",
      "\n",
      "Epoch 00006: val_accuracy did not improve from 0.50642\n",
      "Epoch 7/50\n",
      "224/224 [==============================] - 17s 76ms/step - loss: 1.2305 - accuracy: 0.5306 - val_loss: 1.1748 - val_accuracy: 0.5550\n",
      "\n",
      "Epoch 00007: val_accuracy improved from 0.50642 to 0.55497, saving model to model_weights.h5\n",
      "Epoch 8/50\n",
      "224/224 [==============================] - 17s 77ms/step - loss: 1.1944 - accuracy: 0.5445 - val_loss: 1.2252 - val_accuracy: 0.5299\n",
      "\n",
      "Epoch 00008: val_accuracy did not improve from 0.55497\n",
      "Epoch 9/50\n",
      "224/224 [==============================] - 17s 77ms/step - loss: 1.1797 - accuracy: 0.5520 - val_loss: 1.1523 - val_accuracy: 0.5639\n",
      "\n",
      "Epoch 00009: val_accuracy improved from 0.55497 to 0.56390, saving model to model_weights.h5\n",
      "Epoch 10/50\n",
      "224/224 [==============================] - 18s 78ms/step - loss: 1.1672 - accuracy: 0.5560 - val_loss: 1.1689 - val_accuracy: 0.5488\n",
      "\n",
      "Epoch 00010: val_accuracy did not improve from 0.56390\n",
      "Epoch 11/50\n",
      "224/224 [==============================] - 18s 78ms/step - loss: 1.1396 - accuracy: 0.5632 - val_loss: 1.2809 - val_accuracy: 0.5117\n",
      "\n",
      "Epoch 00011: val_accuracy did not improve from 0.56390\n",
      "Epoch 12/50\n",
      "224/224 [==============================] - 18s 79ms/step - loss: 1.1289 - accuracy: 0.5752 - val_loss: 1.1088 - val_accuracy: 0.5753\n",
      "\n",
      "Epoch 00012: val_accuracy improved from 0.56390 to 0.57533, saving model to model_weights.h5\n",
      "Epoch 13/50\n",
      "224/224 [==============================] - 18s 81ms/step - loss: 1.0999 - accuracy: 0.5807 - val_loss: 1.1070 - val_accuracy: 0.5820\n",
      "\n",
      "Epoch 00013: val_accuracy improved from 0.57533 to 0.58203, saving model to model_weights.h5\n",
      "Epoch 14/50\n",
      "224/224 [==============================] - 19s 83ms/step - loss: 1.0887 - accuracy: 0.5874 - val_loss: 1.0764 - val_accuracy: 0.5949\n",
      "\n",
      "Epoch 00014: val_accuracy improved from 0.58203 to 0.59487, saving model to model_weights.h5\n",
      "Epoch 15/50\n",
      "224/224 [==============================] - 19s 86ms/step - loss: 1.0834 - accuracy: 0.5940 - val_loss: 1.0973 - val_accuracy: 0.5831\n",
      "\n",
      "Epoch 00015: val_accuracy did not improve from 0.59487\n",
      "Epoch 16/50\n",
      "224/224 [==============================] - 18s 82ms/step - loss: 1.0671 - accuracy: 0.5912 - val_loss: 1.1087 - val_accuracy: 0.5751\n",
      "\n",
      "Epoch 00016: val_accuracy did not improve from 0.59487\n",
      "Epoch 17/50\n",
      "224/224 [==============================] - 19s 87ms/step - loss: 1.0648 - accuracy: 0.5946 - val_loss: 0.9945 - val_accuracy: 0.6222\n",
      "\n",
      "Epoch 00017: val_accuracy improved from 0.59487 to 0.62221, saving model to model_weights.h5\n",
      "Epoch 18/50\n",
      "224/224 [==============================] - 19s 86ms/step - loss: 1.0413 - accuracy: 0.6040 - val_loss: 1.1147 - val_accuracy: 0.5770\n",
      "\n",
      "Epoch 00018: val_accuracy did not improve from 0.62221\n",
      "Epoch 19/50\n",
      "224/224 [==============================] - 20s 90ms/step - loss: 1.0380 - accuracy: 0.6108 - val_loss: 1.2133 - val_accuracy: 0.5307\n",
      "\n",
      "Epoch 00019: val_accuracy did not improve from 0.62221\n",
      "Epoch 20/50\n",
      "224/224 [==============================] - 20s 90ms/step - loss: 1.0301 - accuracy: 0.6087 - val_loss: 1.2517 - val_accuracy: 0.5198\n",
      "\n",
      "Epoch 00020: val_accuracy did not improve from 0.62221\n",
      "Epoch 21/50\n",
      "224/224 [==============================] - 18s 80ms/step - loss: 1.0319 - accuracy: 0.6147 - val_loss: 1.0162 - val_accuracy: 0.6186\n",
      "\n",
      "Epoch 00021: val_accuracy did not improve from 0.62221\n",
      "Epoch 22/50\n",
      "224/224 [==============================] - 18s 79ms/step - loss: 0.9985 - accuracy: 0.6227 - val_loss: 1.0119 - val_accuracy: 0.6150\n",
      "\n",
      "Epoch 00022: val_accuracy did not improve from 0.62221\n",
      "Epoch 23/50\n",
      "224/224 [==============================] - 18s 79ms/step - loss: 1.0094 - accuracy: 0.6201 - val_loss: 1.0809 - val_accuracy: 0.5901\n",
      "\n",
      "Epoch 00023: val_accuracy did not improve from 0.62221\n",
      "Epoch 24/50\n",
      "224/224 [==============================] - 18s 79ms/step - loss: 0.9938 - accuracy: 0.6308 - val_loss: 1.1693 - val_accuracy: 0.5550\n",
      "\n",
      "Epoch 00024: val_accuracy did not improve from 0.62221\n",
      "Epoch 25/50\n",
      "224/224 [==============================] - 18s 79ms/step - loss: 0.9763 - accuracy: 0.6276 - val_loss: 1.2222 - val_accuracy: 0.5318\n",
      "\n",
      "Epoch 00025: val_accuracy did not improve from 0.62221\n",
      "Epoch 26/50\n",
      "224/224 [==============================] - 18s 78ms/step - loss: 0.9808 - accuracy: 0.6310 - val_loss: 1.2082 - val_accuracy: 0.5494\n",
      "\n",
      "Epoch 00026: val_accuracy did not improve from 0.62221\n",
      "Epoch 27/50\n",
      "224/224 [==============================] - 18s 78ms/step - loss: 0.9714 - accuracy: 0.6349 - val_loss: 1.0781 - val_accuracy: 0.5996\n",
      "\n",
      "Epoch 00027: val_accuracy did not improve from 0.62221\n",
      "Epoch 28/50\n",
      "224/224 [==============================] - 18s 78ms/step - loss: 0.9630 - accuracy: 0.6329 - val_loss: 1.0396 - val_accuracy: 0.6002\n",
      "\n",
      "Epoch 00028: val_accuracy did not improve from 0.62221\n",
      "Epoch 29/50\n",
      "224/224 [==============================] - 18s 78ms/step - loss: 0.9422 - accuracy: 0.6465 - val_loss: 1.0927 - val_accuracy: 0.5884\n",
      "\n",
      "Epoch 00029: val_accuracy did not improve from 0.62221\n",
      "Epoch 30/50\n",
      "224/224 [==============================] - 18s 78ms/step - loss: 0.9427 - accuracy: 0.6436 - val_loss: 1.1846 - val_accuracy: 0.5622\n",
      "\n",
      "Epoch 00030: val_accuracy did not improve from 0.62221\n",
      "Epoch 31/50\n",
      "224/224 [==============================] - 18s 78ms/step - loss: 0.9332 - accuracy: 0.6505 - val_loss: 1.0331 - val_accuracy: 0.6141\n",
      "\n",
      "Epoch 00031: val_accuracy did not improve from 0.62221\n",
      "Epoch 32/50\n",
      "224/224 [==============================] - 18s 78ms/step - loss: 0.9340 - accuracy: 0.6473 - val_loss: 0.9895 - val_accuracy: 0.6256\n",
      "\n",
      "Epoch 00032: val_accuracy improved from 0.62221 to 0.62556, saving model to model_weights.h5\n",
      "Epoch 33/50\n",
      "224/224 [==============================] - 18s 79ms/step - loss: 0.9275 - accuracy: 0.6484 - val_loss: 1.1421 - val_accuracy: 0.5647\n",
      "\n",
      "Epoch 00033: val_accuracy did not improve from 0.62556\n",
      "Epoch 34/50\n",
      "224/224 [==============================] - 18s 79ms/step - loss: 0.9178 - accuracy: 0.6574 - val_loss: 1.1383 - val_accuracy: 0.5795\n",
      "\n",
      "Epoch 00034: val_accuracy did not improve from 0.62556\n",
      "Epoch 35/50\n",
      "224/224 [==============================] - 20s 89ms/step - loss: 0.9052 - accuracy: 0.6578 - val_loss: 0.9623 - val_accuracy: 0.6462\n",
      "\n",
      "Epoch 00035: val_accuracy improved from 0.62556 to 0.64621, saving model to model_weights.h5\n",
      "Epoch 36/50\n",
      "224/224 [==============================] - 18s 78ms/step - loss: 0.9053 - accuracy: 0.6587 - val_loss: 1.0558 - val_accuracy: 0.6030\n",
      "\n",
      "Epoch 00036: val_accuracy did not improve from 0.64621\n",
      "Epoch 37/50\n",
      "224/224 [==============================] - 18s 78ms/step - loss: 0.8943 - accuracy: 0.6572 - val_loss: 1.2069 - val_accuracy: 0.5625\n",
      "\n",
      "Epoch 00037: val_accuracy did not improve from 0.64621\n",
      "Epoch 38/50\n",
      "224/224 [==============================] - 18s 79ms/step - loss: 0.8869 - accuracy: 0.6620 - val_loss: 1.0551 - val_accuracy: 0.5982\n",
      "\n",
      "Epoch 00038: val_accuracy did not improve from 0.64621\n",
      "Epoch 39/50\n"
     ]
    },
    {
     "name": "stdout",
     "output_type": "stream",
     "text": [
      "224/224 [==============================] - 20s 89ms/step - loss: 0.8802 - accuracy: 0.6639 - val_loss: 1.0088 - val_accuracy: 0.6250\n",
      "\n",
      "Epoch 00039: val_accuracy did not improve from 0.64621\n",
      "Epoch 40/50\n",
      "224/224 [==============================] - 17s 77ms/step - loss: 0.8778 - accuracy: 0.6695 - val_loss: 1.0512 - val_accuracy: 0.6004\n",
      "\n",
      "Epoch 00040: val_accuracy did not improve from 0.64621\n",
      "Epoch 41/50\n",
      "224/224 [==============================] - 17s 78ms/step - loss: 0.8720 - accuracy: 0.6717 - val_loss: 0.9066 - val_accuracy: 0.6599\n",
      "\n",
      "Epoch 00041: val_accuracy improved from 0.64621 to 0.65988, saving model to model_weights.h5\n",
      "Epoch 42/50\n",
      "224/224 [==============================] - 17s 78ms/step - loss: 0.8703 - accuracy: 0.6730 - val_loss: 1.3107 - val_accuracy: 0.5165\n",
      "\n",
      "Epoch 00042: val_accuracy did not improve from 0.65988\n",
      "Epoch 43/50\n",
      "224/224 [==============================] - 20s 88ms/step - loss: 0.8542 - accuracy: 0.6807 - val_loss: 1.0331 - val_accuracy: 0.6166\n",
      "\n",
      "Epoch 00043: val_accuracy did not improve from 0.65988\n",
      "Epoch 44/50\n",
      "224/224 [==============================] - 18s 78ms/step - loss: 0.8581 - accuracy: 0.6773 - val_loss: 0.9749 - val_accuracy: 0.6278\n",
      "\n",
      "Epoch 00044: val_accuracy did not improve from 0.65988\n",
      "Epoch 45/50\n",
      "224/224 [==============================] - 18s 78ms/step - loss: 0.8443 - accuracy: 0.6840 - val_loss: 0.9242 - val_accuracy: 0.6635\n",
      "\n",
      "Epoch 00045: val_accuracy improved from 0.65988 to 0.66350, saving model to model_weights.h5\n",
      "Epoch 46/50\n",
      "224/224 [==============================] - 18s 78ms/step - loss: 0.8441 - accuracy: 0.6835 - val_loss: 0.9964 - val_accuracy: 0.6205\n",
      "\n",
      "Epoch 00046: val_accuracy did not improve from 0.66350\n",
      "Epoch 47/50\n",
      "224/224 [==============================] - 20s 89ms/step - loss: 0.8548 - accuracy: 0.6794 - val_loss: 0.9561 - val_accuracy: 0.6456\n",
      "\n",
      "Epoch 00047: val_accuracy did not improve from 0.66350\n",
      "Epoch 48/50\n",
      "224/224 [==============================] - 18s 79ms/step - loss: 0.8325 - accuracy: 0.6880 - val_loss: 1.1121 - val_accuracy: 0.5879\n",
      "\n",
      "Epoch 00048: val_accuracy did not improve from 0.66350\n",
      "Epoch 49/50\n",
      "224/224 [==============================] - 18s 79ms/step - loss: 0.8314 - accuracy: 0.6872 - val_loss: 1.1317 - val_accuracy: 0.5809\n",
      "\n",
      "Epoch 00049: val_accuracy did not improve from 0.66350\n",
      "Epoch 50/50\n",
      "224/224 [==============================] - 18s 79ms/step - loss: 0.8098 - accuracy: 0.6922 - val_loss: 1.0048 - val_accuracy: 0.6362\n",
      "\n",
      "Epoch 00050: val_accuracy did not improve from 0.66350\n"
     ]
    }
   ],
   "source": [
    "# number of epochs to train the NN\n",
    "epochs = 50\n",
    "\n",
    "# checkpoint to save best model\n",
    "from keras.callbacks import ModelCheckpoint\n",
    "\n",
    "checkpoint = ModelCheckpoint(\"model_weights.h5\", monitor='val_accuracy', verbose=1, save_best_only=True, mode='max')\n",
    "callbacks_list = [checkpoint]\n",
    "\n",
    "history = model.fit(train_generator,\n",
    "                                steps_per_epoch=train_generator.n//train_generator.batch_size,\n",
    "                                epochs=epochs,\n",
    "                                validation_data = validation_generator,\n",
    "                                validation_steps = validation_generator.n//validation_generator.batch_size,\n",
    "                                callbacks=callbacks_list\n",
    "                                )\n"
   ]
  },
  {
   "cell_type": "code",
   "execution_count": 26,
   "metadata": {},
   "outputs": [
    {
     "name": "stdout",
     "output_type": "stream",
     "text": [
      "INFO:tensorflow:Assets written to: C:\\Users\\berna\\Documents\\GitHub\\Emotiondetection\\assets\n"
     ]
    }
   ],
   "source": [
    "model.save(r\"C:\\Users\\berna\\Documents\\GitHub\\Emotiondetection\")"
   ]
  },
  {
   "cell_type": "markdown",
   "metadata": {},
   "source": [
    "## Visualize the training, testing accuracy and loss"
   ]
  },
  {
   "cell_type": "code",
   "execution_count": null,
   "metadata": {},
   "outputs": [],
   "source": [
    "def visualize_model(history):\n",
    "    acc = history.history[\"accuracy\"]\n",
    "    val_acc = history.history[\"val_accuracy\"]\n",
    "    loss = history.history[\"loss\"]\n",
    "    val_loss = history.history[\"val_loss\"]\n",
    "    \n",
    "    epochs = range(1, len(acc) + 1)\n",
    "    \n",
    "    plt.figure(figsize = (24, 6))\n",
    "    plt.subplot(1,2,1)\n",
    "    plt.plot(epochs, acc, 'b', label = 'Training Accuracy')\n",
    "    plt.plot(epochs, val_acc, 'r', label = 'Validation Accuracy')\n",
    "    plt.grid(True)\n",
    "    plt.legend()\n",
    "    plt.xlabel('Epoch')\n",
    "    \n",
    "\n",
    "\n",
    "    plt.subplot(1,2,2)\n",
    "    plt.plot(epochs, loss, 'b', label = 'Training Loss')\n",
    "    plt.plot(epochs, val_loss, 'r', label = 'Validation Loss')\n",
    "    plt.grid(True)\n",
    "    plt.legend()\n",
    "    plt.xlabel('Epoch')\n",
    "    plt.show()\n",
    "\n",
    "def get_best_epcoh(history):\n",
    "    valid_acc = history.history['val_accuracy']\n",
    "    best_epoch = valid_acc.index(max(valid_acc)) + 1\n",
    "    best_acc =  max(valid_acc)\n",
    "    print('Best Validation Accuracy Score {:0.5f}, is for epoch {}'.format( best_acc, best_epoch))\n",
    "    return best_epoch"
   ]
  },
  {
   "cell_type": "code",
   "execution_count": null,
   "metadata": {
    "scrolled": true
   },
   "outputs": [],
   "source": [
    "visualize_model(history)\n",
    "best_epoch = get_best_epcoh(history)"
   ]
  },
  {
   "cell_type": "code",
   "execution_count": null,
   "metadata": {},
   "outputs": [],
   "source": []
  }
 ],
 "metadata": {
  "kernelspec": {
   "display_name": "Python 3",
   "language": "python",
   "name": "python3"
  },
  "language_info": {
   "codemirror_mode": {
    "name": "ipython",
    "version": 3
   },
   "file_extension": ".py",
   "mimetype": "text/x-python",
   "name": "python",
   "nbconvert_exporter": "python",
   "pygments_lexer": "ipython3",
   "version": "3.7.9"
  }
 },
 "nbformat": 4,
 "nbformat_minor": 4
}
